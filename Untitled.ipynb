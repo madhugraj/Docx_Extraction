{
 "cells": [
  {
   "cell_type": "code",
   "execution_count": 1,
   "metadata": {},
   "outputs": [
    {
     "name": "stdout",
     "output_type": "stream",
     "text": [
      "Collecting python-docx\n",
      "  Downloading https://files.pythonhosted.org/packages/e4/83/c66a1934ed5ed8ab1dbb9931f1779079f8bca0f6bbc5793c06c4b5e7d671/python-docx-0.8.10.tar.gz (5.5MB)\n",
      "Requirement already satisfied: lxml>=2.3.2 in c:\\programdata\\anaconda3\\lib\\site-packages (from python-docx) (4.2.1)\n",
      "Building wheels for collected packages: python-docx\n",
      "  Building wheel for python-docx (setup.py): started\n",
      "  Building wheel for python-docx (setup.py): finished with status 'done'\n",
      "  Created wheel for python-docx: filename=python_docx-0.8.10-cp36-none-any.whl size=183655 sha256=04d473797dacb01e95bfaccc7baa8c30426993115219f492ad16bf5c3a572990\n",
      "  Stored in directory: C:\\Users\\madhu\\AppData\\Local\\pip\\Cache\\wheels\\18\\0b\\a0\\1dd62ff812c857c9e487f27d80d53d2b40531bec1acecfa47b\n",
      "Successfully built python-docx\n",
      "Installing collected packages: python-docx\n",
      "Successfully installed python-docx-0.8.10\n"
     ]
    }
   ],
   "source": [
    "!pip install python-docx"
   ]
  },
  {
   "cell_type": "code",
   "execution_count": 1,
   "metadata": {},
   "outputs": [],
   "source": [
    "from docx import *\n",
    "import re\n",
    "import json\n",
    "from docx.enum.style import WD_STYLE"
   ]
  },
  {
   "cell_type": "code",
   "execution_count": 54,
   "metadata": {},
   "outputs": [],
   "source": [
    "document = Document('thefonz.docx')  #Change filename here\n"
   ]
  },
  {
   "cell_type": "code",
   "execution_count": 3,
   "metadata": {},
   "outputs": [
    {
     "data": {
      "text/plain": [
       "<docx.styles.styles.Styles at 0x23afbc67550>"
      ]
     },
     "execution_count": 3,
     "metadata": {},
     "output_type": "execute_result"
    }
   ],
   "source": [
    "styles = document.styles\n",
    "styles"
   ]
  },
  {
   "cell_type": "code",
   "execution_count": 4,
   "metadata": {},
   "outputs": [],
   "source": [
    "#02_-----------Declare Variables-----------\n",
    "bolds=[]\n",
    "emails=[]\n",
    "phones=[]\n",
    "out = []"
   ]
  },
  {
   "cell_type": "code",
   "execution_count": 49,
   "metadata": {},
   "outputs": [],
   "source": [
    "for para in document.paragraphs:\n",
    "\n",
    "    #03.1 Find email and phone numbers within the paragraph text\n",
    "    text = para.text\n",
    "    email_list = re.findall(r\"[a-z0-9\\.\\-+_]+@[a-z0-9\\.\\-+_]+\\.[a-z]+\",text)\n",
    "    phone_list=re.findall(r'[\\+\\(]?[0-9][0-9 .\\-\\(\\)]{8,}[0-9]',text)\n",
    "\n",
    "    for email in email_list:\n",
    "        emails.append(email)\n",
    "\n",
    "    for phone in phone_list:\n",
    "        phones.append(phone)\n",
    "\n",
    "    #03.2 Find the bold style within the word document\n",
    "    for run in para.runs:\n",
    "        if run.bold :\n",
    "            bolds.append(run.text)\n",
    "            \n",
    "for t in document.tables:\n",
    "    for i in range(2):\n",
    "        for j in range(2):\n",
    "            #if t.cell(i,j).text == first_cell_string:\n",
    "            #print(t.cell(i,j).text)\n",
    "            out.append(t.cell(i,j).text)           \n"
   ]
  },
  {
   "cell_type": "code",
   "execution_count": 48,
   "metadata": {},
   "outputs": [
    {
     "name": "stdout",
     "output_type": "stream",
     "text": [
      "R1\n",
      "R2\n",
      "Ananya\n",
      "Adwita\n"
     ]
    }
   ],
   "source": [
    "from docx.enum.style import WD_STYLE\n",
    "\n",
    "for t in document.tables:\n",
    "    for i in range(2):\n",
    "        for j in range(2):\n",
    "            #if t.cell(i,j).text == first_cell_string:\n",
    "            print(t.cell(i,j).text)\n"
   ]
  },
  {
   "cell_type": "code",
   "execution_count": 35,
   "metadata": {},
   "outputs": [
    {
     "name": "stdout",
     "output_type": "stream",
     "text": [
      "[]\n"
     ]
    }
   ],
   "source": [
    "first_cell_string = 'R1'\n",
    "tables = [t for t in document.tables \n",
    "              if t.cell(0,0).text.lower().strip()==first_cell_string]\n",
    "for table in tables:\n",
    "        for i, row in enumerate(table.rows):\n",
    "            text = (cell.text for cell in row.cells)\n",
    "            if i == 0:\n",
    "                keys = tuple(text)\n",
    "                continue\n",
    "\n",
    "            row_data = dict(zip(keys, text))\n",
    "            data.append(row_data)\n",
    "        out.append(pd.DataFrame.from_dict(data))\n",
    "print(out)"
   ]
  },
  {
   "cell_type": "code",
   "execution_count": 41,
   "metadata": {},
   "outputs": [],
   "source": [
    "def make_dataframe(f_name, first_cell_string):\n",
    "    #document = Document(f_name)\n",
    "\n",
    "    # create a list of all of the table object with text of the\n",
    "    # first cell equal to `first_cell_string`\n",
    "    tables = [t for t in document.tables \n",
    "              if t.cell(0,0).text.lower().strip()==first_cell_string]\n",
    "\n",
    "    # in the case that more than one table is found \n",
    "    out = []\n",
    "    for table in tables:\n",
    "        for i, row in enumerate(table.rows):\n",
    "            text = (cell.text for cell in row.cells)\n",
    "            if i == 0:\n",
    "                keys = tuple(text)\n",
    "                continue\n",
    "\n",
    "            row_data = dict(zip(keys, text))\n",
    "            data.append(row_data)\n",
    "        out.append(pd.DataFrame.from_dict(data))\n",
    "        pd.DataFrame.head()\n",
    "    return out"
   ]
  },
  {
   "cell_type": "code",
   "execution_count": 52,
   "metadata": {},
   "outputs": [],
   "source": [
    "style_Dict={'emails':emails,\n",
    "              'phone_numbers':phones,\n",
    "              'bold_phrases':bolds,\n",
    "              'table_contents':out\n",
    "            \n",
    "              }\n"
   ]
  },
  {
   "cell_type": "code",
   "execution_count": 51,
   "metadata": {},
   "outputs": [
    {
     "name": "stdout",
     "output_type": "stream",
     "text": [
      "\n",
      "Word File Output:\n",
      "\n",
      "\n",
      " {\n",
      "    \"emails\": [\n",
      "        \"thefonz@happydays.com\",\n",
      "        \"aay@gmail.com\",\n",
      "        \"hhh@yy.com\"\n",
      "    ],\n",
      "    \"phone_numbers\": [\n",
      "        \"+1 512 100 200\"\n",
      "    ],\n",
      "    \"bold_phrases\": [\n",
      "        \"The \",\n",
      "        \"Fonz\",\n",
      "        \"RESEARCH INTERESTS\",\n",
      "        \"EDUCATION\",\n",
      "        \"PhD in English Literature\",\n",
      "        \"MA in Literature\",\n",
      "        \"BA in English\",\n",
      "        \"APPOINTMENTS\",\n",
      "        \"PUBLICATIONS\",\n",
      "        \"Fonzie Book\",\n",
      "        \"Peer-reviewed Journals\",\n",
      "        \"CONFERENCE PRESENTATIONS\",\n",
      "        \"TEACHING EXPERIENCE\",\n",
      "        \"Associate Professor, University of Chicago\",\n",
      "        \"Teaching Assistant, University of Chicago\",\n",
      "        \"Graduate Teaching Assistant, Northwestern University\",\n",
      "        \"HONORS / AWARDS\",\n",
      "        \"MEMBERSHIPS / AFFILIATIONS\",\n",
      "        \"CONCLUSION:\"\n",
      "    ],\n",
      "    \"table_contents\": [\n",
      "        \"R1\",\n",
      "        \"R2\",\n",
      "        \"Ananya\",\n",
      "        \"Adwita\"\n",
      "    ]\n",
      "}\n"
     ]
    }
   ],
   "source": [
    "print(\"\\nWord File Output:\\n\")\n",
    "r = json.dumps(style_Dict)\n",
    "loaded_r = json.loads(r)\n",
    "print(\"\\n\",json.dumps(loaded_r,indent=4, sort_keys=False))  #Pretty print the JSON output\n",
    "\n"
   ]
  },
  {
   "cell_type": "code",
   "execution_count": null,
   "metadata": {},
   "outputs": [],
   "source": [
    "r = json.dumps(style_Dict)\n",
    "loaded_r = json.loads(r)\n",
    "print(\"\\n\",json.dumps(loaded_r,indent=4, sort_keys=False))  #Pretty print the JSON output"
   ]
  },
  {
   "cell_type": "code",
   "execution_count": 20,
   "metadata": {},
   "outputs": [],
   "source": [
    "from docx.enum.style import WD_STYLE_TYPE\n",
    "paragraph_styles = [s for s in styles if s.type == WD_STYLE_TYPE.PARAGRAPH]\n",
    "for style in paragraph_styles:print(style.name)"
   ]
  },
  {
   "cell_type": "code",
   "execution_count": 36,
   "metadata": {},
   "outputs": [],
   "source": [
    "from docx.enum.style import WD_STYLE\n",
    "document.tables.insert(3,3)\n",
    "\n",
    "#style = styles[WD_STYLE.LIST_BULLET_2]"
   ]
  },
  {
   "cell_type": "code",
   "execution_count": null,
   "metadata": {},
   "outputs": [],
   "source": [
    "\n",
    "####    Time for some old fashioned user functions    ####\n",
    "def make_dataframe(f_name, table_loc):\n",
    "    document = Document(f_name)\n",
    "    tables = document.tables[table_loc]\n",
    "\n",
    "    for i, row in enumerate(tables.rows):\n",
    "        text = (cell.text for cell in row.cells)\n",
    "        if i == 0:\n",
    "            keys = tuple(text)\n",
    "            continue\n",
    "\n",
    "        row_data = dict(zip(keys, text))\n",
    "        data.append(row_data)\n",
    "    df = pd.DataFrame.from_dict(data)\n",
    "    return df\n",
    "\n",
    "\n",
    "df_SHRD = make_dataframe(document,1)\n",
    "#df_SHDD = make_dataframe(SHDD_filename,-60)"
   ]
  },
  {
   "cell_type": "code",
   "execution_count": 40,
   "metadata": {},
   "outputs": [],
   "source": [
    "def make_dataframe(f_name, first_cell_string='R1'):\n",
    "    document = Document(f_name)\n",
    "\n",
    "    # create a list of all of the table object with text of the\n",
    "    # first cell equal to `first_cell_string`\n",
    "    tables = [t for t in document.tables \n",
    "              if t.cell(0,0).text.lower().strip()==first_cell_string]\n",
    "\n",
    "    # in the case that more than one table is found \n",
    "    out = []\n",
    "    for table in tables:\n",
    "        for i, row in enumerate(table.rows):\n",
    "            text = (cell.text for cell in row.cells)\n",
    "            if i == 0:\n",
    "                keys = tuple(text)\n",
    "                continue\n",
    "\n",
    "            row_data = dict(zip(keys, text))\n",
    "            data.append(row_data)\n",
    "        out.append(pd.DataFrame.from_dict(data))\n",
    "    return out\n",
    "\n"
   ]
  },
  {
   "cell_type": "code",
   "execution_count": 42,
   "metadata": {},
   "outputs": [],
   "source": [
    "import pandas as pd\n",
    "\n",
    "first_cell_string = 'R1'\n",
    "df_SHRD = make_dataframe(document,first_cell_string)\n"
   ]
  },
  {
   "cell_type": "code",
   "execution_count": 48,
   "metadata": {},
   "outputs": [],
   "source": [
    "table = document.add_table(rows=2, cols=2)\n",
    "cell = table.cell(0, 1)\n",
    "cell.text = 'parrot, possibly dead'\n",
    "row = table.rows[1]\n",
    "row.cells[0].text = 'Foo bar to you.'\n",
    "row.cells[1].text = 'And a hearty foo bar to you too sir!'"
   ]
  },
  {
   "cell_type": "code",
   "execution_count": 50,
   "metadata": {},
   "outputs": [],
   "source": [
    "document.save(\"test.docx\")"
   ]
  },
  {
   "cell_type": "code",
   "execution_count": 46,
   "metadata": {},
   "outputs": [
    {
     "data": {
      "text/plain": [
       "<function list.count>"
      ]
     },
     "execution_count": 46,
     "metadata": {},
     "output_type": "execute_result"
    }
   ],
   "source": [
    "document.tables.copy"
   ]
  },
  {
   "cell_type": "code",
   "execution_count": 57,
   "metadata": {},
   "outputs": [],
   "source": [
    "if cell.text == 'R2':\n",
    "    print(\"found\")"
   ]
  },
  {
   "cell_type": "code",
   "execution_count": 54,
   "metadata": {},
   "outputs": [
    {
     "data": {
      "text/plain": [
       "'parrot, possibly dead'"
      ]
     },
     "execution_count": 54,
     "metadata": {},
     "output_type": "execute_result"
    }
   ],
   "source": [
    "cell.text"
   ]
  },
  {
   "cell_type": "code",
   "execution_count": 58,
   "metadata": {},
   "outputs": [],
   "source": [
    " \n",
    "def docx_replace_regex(doc_obj, regex , replace):\n",
    " \n",
    "    for p in doc_obj.paragraphs:\n",
    "        if regex.search(p.text):\n",
    "            inline = p.runs\n",
    "            # Loop added to work with runs (strings with same style)\n",
    "            for i in range(len(inline)):\n",
    "                if regex.search(inline[i].text):\n",
    "                    text = regex.sub(replace, inline[i].text)\n",
    "                    inline[i].text = text\n",
    " \n",
    "    for table in doc_obj.tables:\n",
    "        for row in table.rows:\n",
    "            for cell in row.cells:\n",
    "                docx_replace_regex(cell, regex , replace)\n",
    " \n",
    " \n",
    " \n",
    "regex1 = re.compile(r\"your regex\")\n",
    "replace1 = r\"your replace string\"\n"
   ]
  },
  {
   "cell_type": "code",
   "execution_count": 61,
   "metadata": {},
   "outputs": [
    {
     "ename": "NameError",
     "evalue": "name 'R1' is not defined",
     "output_type": "error",
     "traceback": [
      "\u001b[1;31m---------------------------------------------------------------------------\u001b[0m",
      "\u001b[1;31mNameError\u001b[0m                                 Traceback (most recent call last)",
      "\u001b[1;32m<ipython-input-61-7f1b43429c32>\u001b[0m in \u001b[0;36m<module>\u001b[1;34m()\u001b[0m\n\u001b[1;32m----> 1\u001b[1;33m \u001b[0mdocx_replace_regex\u001b[0m\u001b[1;33m(\u001b[0m\u001b[0mdocument\u001b[0m\u001b[1;33m,\u001b[0m \u001b[0mR1\u001b[0m \u001b[1;33m,\u001b[0m \u001b[0mX1\u001b[0m\u001b[1;33m)\u001b[0m\u001b[1;33m\u001b[0m\u001b[0m\n\u001b[0m\u001b[0;32m      2\u001b[0m \u001b[0mdocument\u001b[0m\u001b[1;33m.\u001b[0m\u001b[0msave\u001b[0m\u001b[1;33m(\u001b[0m\u001b[1;34m'result1.docx'\u001b[0m\u001b[1;33m)\u001b[0m\u001b[1;33m\u001b[0m\u001b[0m\n",
      "\u001b[1;31mNameError\u001b[0m: name 'R1' is not defined"
     ]
    }
   ],
   "source": [
    "docx_replace_regex(document, regex1 , replace1)\n",
    "document.save('result1.docx')"
   ]
  },
  {
   "cell_type": "code",
   "execution_count": 53,
   "metadata": {},
   "outputs": [
    {
     "data": {
      "text/plain": [
       "<bound method Sequence.count of <docx.section.Sections object at 0x0000023AFFEA9CF8>>"
      ]
     },
     "execution_count": 53,
     "metadata": {},
     "output_type": "execute_result"
    }
   ],
   "source": [
    "document.sections"
   ]
  },
  {
   "cell_type": "code",
   "execution_count": 58,
   "metadata": {},
   "outputs": [
    {
     "name": "stdout",
     "output_type": "stream",
     "text": [
      "5943600 3623310\n"
     ]
    },
    {
     "ename": "AttributeError",
     "evalue": "'InlineShape' object has no attribute 'show'",
     "output_type": "error",
     "traceback": [
      "\u001b[1;31m---------------------------------------------------------------------------\u001b[0m",
      "\u001b[1;31mAttributeError\u001b[0m                            Traceback (most recent call last)",
      "\u001b[1;32m<ipython-input-58-92bcba21b3cc>\u001b[0m in \u001b[0;36m<module>\u001b[1;34m()\u001b[0m\n\u001b[0;32m      1\u001b[0m \u001b[1;32mfor\u001b[0m \u001b[0mimage\u001b[0m \u001b[1;32min\u001b[0m \u001b[0mdocument\u001b[0m\u001b[1;33m.\u001b[0m\u001b[0minline_shapes\u001b[0m\u001b[1;33m:\u001b[0m\u001b[1;33m\u001b[0m\u001b[0m\n\u001b[0;32m      2\u001b[0m     \u001b[0mprint\u001b[0m \u001b[1;33m(\u001b[0m\u001b[0mimage\u001b[0m\u001b[1;33m.\u001b[0m\u001b[0mwidth\u001b[0m\u001b[1;33m,\u001b[0m \u001b[0mimage\u001b[0m\u001b[1;33m.\u001b[0m\u001b[0mheight\u001b[0m\u001b[1;33m)\u001b[0m\u001b[1;33m\u001b[0m\u001b[0m\n\u001b[1;32m----> 3\u001b[1;33m \u001b[0mimage\u001b[0m\u001b[1;33m.\u001b[0m\u001b[0mshow\u001b[0m\u001b[1;33m\u001b[0m\u001b[0m\n\u001b[0m",
      "\u001b[1;31mAttributeError\u001b[0m: 'InlineShape' object has no attribute 'show'"
     ]
    }
   ],
   "source": [
    "for image in document.inline_shapes:\n",
    "    \n",
    "    print (image.width, image.height)\n"
   ]
  },
  {
   "cell_type": "code",
   "execution_count": 59,
   "metadata": {},
   "outputs": [
    {
     "name": "stdout",
     "output_type": "stream",
     "text": [
      "Collecting docx2txt\n",
      "  Downloading https://files.pythonhosted.org/packages/7d/7d/60ee3f2b16d9bfdfa72e8599470a2c1a5b759cb113c6fe1006be28359327/docx2txt-0.8.tar.gz\n",
      "Building wheels for collected packages: docx2txt\n",
      "  Building wheel for docx2txt (setup.py): started\n",
      "  Building wheel for docx2txt (setup.py): finished with status 'done'\n",
      "  Created wheel for docx2txt: filename=docx2txt-0.8-cp36-none-any.whl size=3147 sha256=f0b74f90df741e4be4ac7bb8598649db016ef68c5c162b2f5b847bae4f042f8d\n",
      "  Stored in directory: C:\\Users\\madhu\\AppData\\Local\\pip\\Cache\\wheels\\b2\\1f\\26\\a051209bbb77fc6bcfae2bb7e01fa0ff941b82292ab084d596\n",
      "Successfully built docx2txt\n",
      "Installing collected packages: docx2txt\n",
      "Successfully installed docx2txt-0.8\n"
     ]
    }
   ],
   "source": [
    "!pip install docx2txt"
   ]
  },
  {
   "cell_type": "code",
   "execution_count": null,
   "metadata": {},
   "outputs": [],
   "source": []
  }
 ],
 "metadata": {
  "kernelspec": {
   "display_name": "Python 3",
   "language": "python",
   "name": "python3"
  },
  "language_info": {
   "codemirror_mode": {
    "name": "ipython",
    "version": 3
   },
   "file_extension": ".py",
   "mimetype": "text/x-python",
   "name": "python",
   "nbconvert_exporter": "python",
   "pygments_lexer": "ipython3",
   "version": "3.6.5"
  }
 },
 "nbformat": 4,
 "nbformat_minor": 2
}
