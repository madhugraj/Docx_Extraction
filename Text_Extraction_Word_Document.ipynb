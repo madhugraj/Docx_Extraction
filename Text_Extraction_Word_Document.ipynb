{
 "cells": [
  {
   "cell_type": "markdown",
   "metadata": {},
   "source": [
    "!pip install python-docx"
   ]
  },
  {
   "cell_type": "code",
   "execution_count": 1,
   "metadata": {},
   "outputs": [],
   "source": [
    "from docx import *\n",
    "import re\n",
    "import json\n",
    "from docx.enum.style import WD_STYLE"
   ]
  },
  {
   "cell_type": "code",
   "execution_count": 2,
   "metadata": {},
   "outputs": [],
   "source": [
    "document = Document('thefonz.docx')  #Change filename here"
   ]
  },
  {
   "cell_type": "code",
   "execution_count": 3,
   "metadata": {},
   "outputs": [],
   "source": [
    "bolds=[]\n",
    "emails=[]\n",
    "phones=[]\n",
    "out = []"
   ]
  },
  {
   "cell_type": "code",
   "execution_count": 4,
   "metadata": {},
   "outputs": [],
   "source": [
    "for para in document.paragraphs:\n",
    "\n",
    "    #03.1 Find email and phone numbers within the paragraph text\n",
    "    text = para.text\n",
    "    email_list = re.findall(r\"[a-z0-9\\.\\-+_]+@[a-z0-9\\.\\-+_]+\\.[a-z]+\",text)\n",
    "    phone_list=re.findall(r'[\\+\\(]?[0-9][0-9 .\\-\\(\\)]{8,}[0-9]',text)\n",
    "\n",
    "    for email in email_list:\n",
    "        emails.append(email)\n",
    "\n",
    "    for phone in phone_list:\n",
    "        phones.append(phone)\n",
    "\n",
    "    #03.2 Find the bold style within the word document\n",
    "    for run in para.runs:\n",
    "        if run.bold :\n",
    "            bolds.append(run.text)\n",
    "            \n",
    "for t in document.tables:\n",
    "    for i in range(2):\n",
    "        for j in range(2):\n",
    "            #if t.cell(i,j).text == first_cell_string:\n",
    "            #print(t.cell(i,j).text)\n",
    "            out.append(t.cell(i,j).text)  "
   ]
  },
  {
   "cell_type": "code",
   "execution_count": 5,
   "metadata": {},
   "outputs": [],
   "source": [
    "style_Dict={'emails':emails,\n",
    "              'phone_numbers':phones,\n",
    "              'bold_phrases':bolds,\n",
    "              'table_contents':out\n",
    "            }"
   ]
  },
  {
   "cell_type": "code",
   "execution_count": 6,
   "metadata": {},
   "outputs": [
    {
     "name": "stdout",
     "output_type": "stream",
     "text": [
      "\n",
      "Word File Output:\n",
      "\n",
      "\n",
      " {\n",
      "    \"emails\": [\n",
      "        \"thefonz@happydays.com\",\n",
      "        \"aay@gmail.com\",\n",
      "        \"hhh@yy.com\"\n",
      "    ],\n",
      "    \"phone_numbers\": [\n",
      "        \"+1 512 100 200\"\n",
      "    ],\n",
      "    \"bold_phrases\": [\n",
      "        \"The \",\n",
      "        \"Fonz\",\n",
      "        \"RESEARCH INTERESTS\",\n",
      "        \"EDUCATION\",\n",
      "        \"PhD in English Literature\",\n",
      "        \"MA in Literature\",\n",
      "        \"BA in English\",\n",
      "        \"APPOINTMENTS\",\n",
      "        \"PUBLICATIONS\",\n",
      "        \"Fonzie Book\",\n",
      "        \"Peer-reviewed Journals\",\n",
      "        \"CONFERENCE PRESENTATIONS\",\n",
      "        \"TEACHING EXPERIENCE\",\n",
      "        \"Associate Professor, University of Chicago\",\n",
      "        \"Teaching Assistant, University of Chicago\",\n",
      "        \"Graduate Teaching Assistant, Northwestern University\",\n",
      "        \"HONORS / AWARDS\",\n",
      "        \"MEMBERSHIPS / AFFILIATIONS\",\n",
      "        \"CONCLUSION:\"\n",
      "    ],\n",
      "    \"table_contents\": [\n",
      "        \"R1\",\n",
      "        \"R2\",\n",
      "        \"Ananya\",\n",
      "        \"Adwita\"\n",
      "    ]\n",
      "}\n"
     ]
    }
   ],
   "source": [
    "print(\"\\nWord File Output:\\n\")\n",
    "r = json.dumps(style_Dict)\n",
    "loaded_r = json.loads(r)\n",
    "print(\"\\n\",json.dumps(loaded_r,indent=4, sort_keys=False))  #Pretty print the JSON output"
   ]
  },
  {
   "cell_type": "code",
   "execution_count": null,
   "metadata": {},
   "outputs": [],
   "source": []
  }
 ],
 "metadata": {
  "kernelspec": {
   "display_name": "Python 3",
   "language": "python",
   "name": "python3"
  },
  "language_info": {
   "codemirror_mode": {
    "name": "ipython",
    "version": 3
   },
   "file_extension": ".py",
   "mimetype": "text/x-python",
   "name": "python",
   "nbconvert_exporter": "python",
   "pygments_lexer": "ipython3",
   "version": "3.6.5"
  }
 },
 "nbformat": 4,
 "nbformat_minor": 2
}
